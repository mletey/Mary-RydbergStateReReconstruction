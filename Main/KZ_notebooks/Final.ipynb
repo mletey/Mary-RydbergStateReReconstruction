{
 "cells": [
  {
   "cell_type": "markdown",
   "id": "48e18856",
   "metadata": {},
   "source": [
    "We will examine the Rydberg Hamiltonian with\n",
    "   - $\\frac{R_b}{a} = 1.15$\n",
    "   - $\\Omega = 4.24$\n",
    "   - $\\delta = {-1.545, 4.455, 4.955, 13.455}$ "
   ]
  },
  {
   "cell_type": "markdown",
   "id": "2281f64a",
   "metadata": {},
   "source": [
    "The four values of $\\delta$ correspond to different points along the phase transition. The low and high values correspond to the ordered and disordered phases (respectively), and the two middle values are those closest to the critical value of $\\delta$"
   ]
  },
  {
   "cell_type": "code",
   "execution_count": 1,
   "id": "f8bd88ed",
   "metadata": {},
   "outputs": [],
   "source": [
    "%load_ext autoreload\n",
    "%autoreload 2"
   ]
  },
  {
   "cell_type": "code",
   "execution_count": 15,
   "id": "5ca91716",
   "metadata": {},
   "outputs": [],
   "source": [
    "import sys\n",
    "sys.path.append('..')\n",
    "import numpy as np\n",
    "from dset_helpers import data_given_param,create_KZ_tf_dataset"
   ]
  },
  {
   "cell_type": "code",
   "execution_count": 16,
   "id": "3fc927c1",
   "metadata": {},
   "outputs": [],
   "source": [
    "sweep_rate = 15\n",
    "low = -1.545\n",
    "midlow = 4.455\n",
    "midhigh = 4.955\n",
    "high = 13.455"
   ]
  },
  {
   "cell_type": "code",
   "execution_count": 17,
   "id": "48e79e78",
   "metadata": {},
   "outputs": [],
   "source": [
    "data_low = data_given_param(sweep_rate,low)\n",
    "data_midlow = data_given_param(sweep_rate,midlow)\n",
    "data_midhigh = data_given_param(sweep_rate,midhigh)\n",
    "data_high = data_given_param(sweep_rate,high)"
   ]
  },
  {
   "cell_type": "code",
   "execution_count": 18,
   "id": "8545913f",
   "metadata": {},
   "outputs": [
    {
     "name": "stdout",
     "output_type": "stream",
     "text": [
      "(16, 16, 1, 1000)\n"
     ]
    }
   ],
   "source": [
    "print(np.shape(data_low))"
   ]
  },
  {
   "cell_type": "code",
   "execution_count": 19,
   "id": "a37593e5",
   "metadata": {},
   "outputs": [],
   "source": [
    "low_tf = create_KZ_tf_dataset(data_low)"
   ]
  },
  {
   "cell_type": "code",
   "execution_count": 20,
   "id": "ec90b2b0",
   "metadata": {},
   "outputs": [
    {
     "name": "stdout",
     "output_type": "stream",
     "text": [
      "tf.Tensor(\n",
      "[[0 1 1 ... 1 0 0]\n",
      " [0 0 0 ... 0 0 1]\n",
      " [1 0 1 ... 0 0 0]\n",
      " ...\n",
      " [0 0 0 ... 1 0 0]\n",
      " [0 0 0 ... 0 0 0]\n",
      " [0 0 0 ... 0 0 1]], shape=(256, 1000), dtype=int64)\n"
     ]
    }
   ],
   "source": [
    "print(low_tf)"
   ]
  },
  {
   "cell_type": "code",
   "execution_count": null,
   "id": "09924e0b",
   "metadata": {},
   "outputs": [],
   "source": []
  }
 ],
 "metadata": {
  "kernelspec": {
   "display_name": "Python 3 (ipykernel)",
   "language": "python",
   "name": "python3"
  },
  "language_info": {
   "codemirror_mode": {
    "name": "ipython",
    "version": 3
   },
   "file_extension": ".py",
   "mimetype": "text/x-python",
   "name": "python",
   "nbconvert_exporter": "python",
   "pygments_lexer": "ipython3",
   "version": "3.9.12"
  }
 },
 "nbformat": 4,
 "nbformat_minor": 5
}
