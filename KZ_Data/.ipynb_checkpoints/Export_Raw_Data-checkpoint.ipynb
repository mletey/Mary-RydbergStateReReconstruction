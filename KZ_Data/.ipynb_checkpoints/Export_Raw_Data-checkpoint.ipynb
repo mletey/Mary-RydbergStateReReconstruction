{
 "cells": [
  {
   "cell_type": "code",
   "execution_count": 1,
   "metadata": {
    "scrolled": true
   },
   "outputs": [
    {
     "name": "stdout",
     "output_type": "stream",
     "text": [
      "['#1f77b4', '#ff7f0e', '#2ca02c', '#d62728', '#9467bd', '#8c564b', '#e377c2', '#7f7f7f', '#bcbd22', '#17becf', '#1f77b4', '#ff7f0e', '#2ca02c', '#d62728', '#9467bd', '#8c564b', '#e377c2', '#7f7f7f', '#bcbd22', '#17becf', '#1f77b4', '#ff7f0e', '#2ca02c', '#d62728', '#9467bd', '#8c564b', '#e377c2', '#7f7f7f', '#bcbd22', '#17becf', '#1f77b4', '#ff7f0e', '#2ca02c', '#d62728', '#9467bd', '#8c564b', '#e377c2', '#7f7f7f', '#bcbd22', '#17becf']\n"
     ]
    }
   ],
   "source": [
    "import numpy as np\n",
    "import matplotlib.pyplot as plt\n",
    "from scipy.optimize import curve_fit\n",
    "from skimage import measure\n",
    "\n",
    "color_map = plt.rcParams['axes.prop_cycle'].by_key()['color'] # Python plotting color maps\n",
    "for n in range(len(color_map)):\n",
    "    color_map.append(color_map[n])\n",
    "    \n",
    "for n in range(len(color_map)):\n",
    "    color_map.append(color_map[n])\n",
    "print(color_map)"
   ]
  },
  {
   "cell_type": "code",
   "execution_count": 142,
   "metadata": {},
   "outputs": [
    {
     "data": {
      "text/plain": [
       "(512, 4, 12000)"
      ]
     },
     "execution_count": 142,
     "metadata": {},
     "output_type": "execute_result"
    }
   ],
   "source": [
    "# postselect_on_rearrangement = False\n",
    "postselect_on_rearrangement = True\n",
    "\n",
    "remove_edges = False\n",
    "# remove_edges = True\n",
    "# edge_width = 2\n",
    "\n",
    "## --- 16x16 / 8.0 du --- ##\n",
    "# parameter_sweep_data = np.load(\"2020_11_18_seq_097_parameter_sweep_data.npz\")\n",
    "# data, logtime, f_start = np.load(\"2020_11_18_seq_097_datasummary.npz\", allow_pickle=True), -2, -8\n",
    "# data, logtime, f_start = np.load(\"2020_11_18_seq_098_datasummary.npz\", allow_pickle=True), -1, -8\n",
    "# data, logtime, f_start = np.load(\"2020_11_18_seq_099_datasummary.npz\", allow_pickle=True), 0, -8\n",
    "# data, logtime, f_start = np.load(\"2020_11_19_seq_003_datasummary.npz\", allow_pickle=True), -1.5, -8\n",
    "# data, logtime, f_start = np.load(\"2020_11_19_seq_004_datasummary.npz\", allow_pickle=True), -0.5, -8\n",
    "# data, logtime, f_start = np.load(\"2020_11_19_seq_005_datasummary.npz\", allow_pickle=True), 0.5, -8\n",
    "\n",
    "# parameter_sweep_data = np.load(\"2020_11_18_seq_100_parameter_sweep_data.npz\")\n",
    "# data, logtime, f_start = np.load(\"2020_11_18_seq_100_datasummary.npz\", allow_pickle=True), 1, -8\n",
    "\n",
    "# parameter_sweep_data = np.load(\"2020_11_18_seq_101_parameter_sweep_data.npz\")\n",
    "# data, logtime, f_start = np.load(\"2020_11_18_seq_101_datasummary.npz\", allow_pickle=True), 1, -2\n",
    "\n",
    "# parameter_sweep_data = np.load(\"2020_11_19_seq_001_parameter_sweep_data.npz\")\n",
    "# data, logtime, f_start = np.load(\"2020_11_19_seq_001_datasummary.npz\", allow_pickle=True), 1, 4\n",
    "\n",
    "parameter_sweep_data = np.load(\"2020_11_19_seq_002_parameter_sweep_data.npz\")\n",
    "data, logtime, f_start = np.load(\"2020_11_19_seq_002_datasummary.npz\", allow_pickle=True), 1, 10\n",
    "\n",
    "atoms_present = data[\"data\"][()][\"atoms_present\"]\n",
    "\n",
    "# Atoms present is a 3D, boolean-valued array.\n",
    "# First index: which trap in the array are we talking about?\n",
    "# Second index: which image in the experimental sequence are we looking at? (ie., 2 or 3 images per sequence is usual)\n",
    "# Third index: which repetition of the experimental sequence are we looking at?\n",
    "# Value: binary --> True if the atom is present, False if atom is absent.\n",
    "atoms_present.shape"
   ]
  },
  {
   "cell_type": "code",
   "execution_count": 143,
   "metadata": {},
   "outputs": [
    {
     "name": "stdout",
     "output_type": "stream",
     "text": [
      "---CHECK---\n",
      "NUM_ROWS * NUM_COLS = 512\n",
      "LOADED NUM TRAPS: 512\n"
     ]
    },
    {
     "data": {
      "text/plain": [
       "(32, 16, 4, 12000)"
      ]
     },
     "execution_count": 143,
     "metadata": {},
     "output_type": "execute_result"
    }
   ],
   "source": [
    "num_traps = atoms_present.shape[0]\n",
    "num_images_per_repetition = atoms_present.shape[1]\n",
    "num_repetitions = atoms_present.shape[2]\n",
    "\n",
    "\n",
    "# HARDCODED INFORMATION ABOUT TRAP ARRAY:\n",
    "num_cols = 32\n",
    "num_rows = 16\n",
    "lattice_spacing = 8 # in diffraction units\n",
    "#######\n",
    "\n",
    "\n",
    "print(\"---CHECK---\")\n",
    "print(\"NUM_ROWS * NUM_COLS =\", num_cols * num_rows)\n",
    "print(\"LOADED NUM TRAPS:\", num_traps)\n",
    "if num_traps != num_cols * num_rows:\n",
    "    print(\"ERROR! Make sure to enter the right number of cols and rows!\")\n",
    "\n",
    "# Reshape atoms_present into atom_presences_2d, which is indexed by:\n",
    "# First index: column associated with trap\n",
    "# Second index: row associated with trap\n",
    "# Third index: (same as second index in atoms_present)\n",
    "# Fourth index: (same as third index in atoms_present)\n",
    "atom_presences_2d = np.reshape(atoms_present, (num_cols, num_rows, num_images_per_repetition, num_repetitions))\n",
    "atom_presences_2d.shape"
   ]
  },
  {
   "cell_type": "code",
   "execution_count": 144,
   "metadata": {},
   "outputs": [
    {
     "data": {
      "image/png": "[encoded data removed]",
      "text/plain": [
       "<Figure size 432x288 with 4 Axes>"
      ]
     },
     "metadata": {
      "needs_background": "light"
     },
     "output_type": "display_data"
    }
   ],
   "source": [
    "# Plot heatmap of average occupation probability at each site in array,\n",
    "# averaged over all repetitions in the sequence.\n",
    "# Consider this average for the first/second/etc. image per sequence separately.\n",
    "for image in range(num_images_per_repetition):\n",
    "    plt.subplot(1, num_images_per_repetition, image+1)\n",
    "    mean_occupation_probabilities = np.mean(atom_presences_2d[:, :, image, :], axis=-1)\n",
    "    \n",
    "    plt.imshow(mean_occupation_probabilities.T, origin='lower')"
   ]
  },
  {
   "cell_type": "code",
   "execution_count": 145,
   "metadata": {},
   "outputs": [
    {
     "name": "stdout",
     "output_type": "stream",
     "text": [
      "Target dimensions 16 x 16\n"
     ]
    },
    {
     "data": {
      "text/plain": [
       "Text(0.5, 1.0, 'Target pattern')"
      ]
     },
     "execution_count": 145,
     "metadata": {},
     "output_type": "execute_result"
    },
    {
     "data": {
      "image/png": "[encoded data removed]",
      "text/plain": [
       "<Figure size 432x288 with 2 Axes>"
      ]
     },
     "metadata": {
      "needs_background": "light"
     },
     "output_type": "display_data"
    }
   ],
   "source": [
    "# Do we only care about a particular target region?\n",
    "target_mask = np.zeros((num_cols, num_rows), dtype=np.bool)\n",
    "\n",
    "# start_col = 0\n",
    "# end_col = num_cols\n",
    "# col_stride = 2\n",
    "# start_row = 0\n",
    "# end_row = num_rows\n",
    "# row_stride = 1\n",
    "\n",
    "start_col = 1\n",
    "end_col = num_cols\n",
    "col_stride = 2\n",
    "start_row = 0\n",
    "end_row = num_rows\n",
    "row_stride = 1\n",
    "\n",
    "#start_col = 3\n",
    "#end_col = num_cols\n",
    "#col_stride = 2\n",
    "#start_row = 1\n",
    "#end_row = num_rows\n",
    "#row_stride = 1\n",
    "\n",
    "\n",
    "target_mask[start_col:end_col:col_stride, start_row:end_row:row_stride] = True\n",
    "\n",
    "\n",
    "num_cols_to_analyze = round((end_col - start_col)/col_stride)\n",
    "num_rows_to_analyze = round((end_row - start_row)/row_stride)\n",
    "\n",
    "print('Target dimensions %d x %d' %(num_cols_to_analyze, num_rows_to_analyze))\n",
    "\n",
    "plt.subplot(121)\n",
    "plt.imshow(np.mean(atom_presences_2d[:, :, -2, :], axis=-1).T, origin='lower')\n",
    "plt.title(\"Avg. occ. after rearrangement\")\n",
    "\n",
    "plt.subplot(122)\n",
    "plt.imshow(target_mask.T, origin='lower')\n",
    "plt.title(\"Target pattern\")"
   ]
  },
  {
   "cell_type": "code",
   "execution_count": 146,
   "metadata": {
    "scrolled": false
   },
   "outputs": [
    {
     "name": "stdout",
     "output_type": "stream",
     "text": [
      "Mean # of defects: 3.74 / 256\t(Percentage: 1.46%)\n",
      "# Repetitions with acceptable errors: 403 / 12000\t(Percentage: 3.36%)\n",
      "251.0\n"
     ]
    },
    {
     "data": {
      "text/plain": [
       "Text(0, 0.5, 'Number of Repetitions')"
      ]
     },
     "execution_count": 146,
     "metadata": {},
     "output_type": "execute_result"
    },
    {
     "data": {
      "image/png": "[encoded data removed]",
      "text/plain": [
       "<Figure size 432x288 with 1 Axes>"
      ]
     },
     "metadata": {
      "needs_background": "light"
     },
     "output_type": "display_data"
    }
   ],
   "source": [
    "defects_per_rep = np.zeros(num_repetitions)\n",
    "\n",
    "for n in range(num_repetitions):\n",
    "    defects_per_rep[n] = np.sum(np.logical_xor(atom_presences_2d[:,:,-2,n],target_mask[:,:]), axis=(0,1))\n",
    "\n",
    "# Define number of allowed defects for rearrangement_mask\n",
    "# defects_allowed = num_traps\n",
    "defects_allowed = 0\n",
    "\n",
    "# This will be used later to postselect on repetitions based on defect number\n",
    "rearrangement_mask = (defects_per_rep <= defects_allowed)\n",
    "\n",
    "print(\"Mean # of defects: %.2f / %d\\t(Percentage: %.2f%%)\" %(np.mean(defects_per_rep), np.sum(target_mask),\n",
    "                                        100.0*np.mean(defects_per_rep) / np.sum(target_mask)))\n",
    "print(\"# Repetitions with acceptable errors: %d / %d\\t(Percentage: %.2f%%)\" %(np.sum(rearrangement_mask), num_repetitions,\n",
    "                                                            100.0*np.sum(rearrangement_mask)/num_repetitions))\n",
    "# Make histogram bins\n",
    "\n",
    "print(np.amax(defects_per_rep))\n",
    "hist_bins= np.zeros(int(np.amax(defects_per_rep)+2))\n",
    "for i in range(int(np.amax(defects_per_rep)+2)):\n",
    "    hist_bins[i]=-0.5+i\n",
    "    \n",
    "plt.hist(defects_per_rep, bins=hist_bins)\n",
    "plt.xlabel(\"Number of Defects\")\n",
    "plt.ylabel(\"Number of Repetitions\")"
   ]
  },
  {
   "cell_type": "code",
   "execution_count": 147,
   "metadata": {},
   "outputs": [
    {
     "name": "stdout",
     "output_type": "stream",
     "text": [
      "Repetition  9059\n"
     ]
    },
    {
     "data": {
      "image/png": "[encoded data removed]",
      "text/plain": [
       "<Figure size 288x144 with 1 Axes>"
      ]
     },
     "metadata": {
      "needs_background": "light"
     },
     "output_type": "display_data"
    }
   ],
   "source": [
    "# Show example of postselected image\n",
    "postselect_index = np.random.choice(np.arange(num_repetitions)[rearrangement_mask])\n",
    "plt.figure(figsize=[4,2])\n",
    "plt.imshow(atom_presences_2d[:,:,-2,postselect_index].T)\n",
    "print('Repetition ', postselect_index)"
   ]
  },
  {
   "cell_type": "code",
   "execution_count": 148,
   "metadata": {},
   "outputs": [
    {
     "data": {
      "text/plain": [
       "(16, 16, 12000)"
      ]
     },
     "execution_count": 148,
     "metadata": {},
     "output_type": "execute_result"
    }
   ],
   "source": [
    "# Identify atoms that were lost between the second-last image of the sequence\n",
    "# and the last image of the sequence (ie., atoms that are present in image index -2\n",
    "# but absent in image index -1).\n",
    "# Consider only Rydberg excitation in the target region\n",
    "rydberg_populations = atom_presences_2d[:, :, -2, :] * (1 - atom_presences_2d[:, :, -1, :])\n",
    "rydberg_populations = rydberg_populations[start_col:end_col:col_stride,\n",
    "                                          start_row:end_row:row_stride,\n",
    "                                         :]\n",
    "rydberg_populations.shape"
   ]
  },
  {
   "cell_type": "code",
   "execution_count": 149,
   "metadata": {},
   "outputs": [
    {
     "data": {
      "text/plain": [
       "<matplotlib.colorbar.Colorbar at 0x11c555160>"
      ]
     },
     "execution_count": 149,
     "metadata": {},
     "output_type": "execute_result"
    },
    {
     "data": {
      "image/png": "[encoded data removed]",
      "text/plain": [
       "<Figure size 432x288 with 4 Axes>"
      ]
     },
     "metadata": {
      "needs_background": "light"
     },
     "output_type": "display_data"
    }
   ],
   "source": [
    "# Average Rydberg population over all repetitions of the sequence\n",
    "plt.subplot(121)\n",
    "plt.imshow(np.mean(rydberg_populations[:, :, :], axis=-1).T, origin='lower', vmin=0, vmax=1)\n",
    "plt.colorbar()\n",
    "\n",
    "# Average Rydberg population over the repetitions in which rearrangement was perfect.\n",
    "plt.subplot(122)\n",
    "plt.imshow(np.mean(rydberg_populations[:, :, rearrangement_mask], axis=-1).T, origin='lower', vmin=0, vmax=1)\n",
    "plt.colorbar()"
   ]
  },
  {
   "cell_type": "markdown",
   "metadata": {},
   "source": [
    "# Reshape Repetitions by Sweep  Parameter"
   ]
  },
  {
   "cell_type": "code",
   "execution_count": 150,
   "metadata": {
    "scrolled": true
   },
   "outputs": [
    {
     "name": "stdout",
     "output_type": "stream",
     "text": [
      "(16, 16, 12, 1000)\n",
      "(12, 1000)\n"
     ]
    },
    {
     "data": {
      "image/png": "[encoded data removed]",
      "text/plain": [
       "<Figure size 432x288 with 1 Axes>"
      ]
     },
     "metadata": {
      "needs_background": "light"
     },
     "output_type": "display_data"
    }
   ],
   "source": [
    "params = parameter_sweep_data[\"params\"]\n",
    "param_label = parameter_sweep_data[\"param_label\"]\n",
    "\n",
    "num_params = len(params)\n",
    "num_repetitions_per_param = num_repetitions // num_params\n",
    "\n",
    "\n",
    "ryd_pop_per_param = rydberg_populations.reshape((num_cols_to_analyze, \n",
    "                                                             num_rows_to_analyze,\n",
    "                                                             num_params,\n",
    "                                                             num_repetitions_per_param\n",
    "                                                            ))\n",
    "print(ryd_pop_per_param.shape)\n",
    "\n",
    "# Reshape rearrangement_mask according to sweep parameters\n",
    "rearrangement_mask_per_param = rearrangement_mask.reshape((num_params, num_repetitions_per_param))\n",
    "print(rearrangement_mask_per_param.shape)\n",
    "\n",
    "# Show how many repetitions from each sweep parameter are postselected\n",
    "reps_included = np.sum(rearrangement_mask_per_param, axis=-1)\n",
    "x_axis_array = range(num_params)\n",
    "plt.bar(x_axis_array, reps_included)\n",
    "plt.xlabel(\"Parameter Index\")\n",
    "plt.ylabel(\"Number of Repetitions\")\n",
    "\n",
    "if postselect_on_rearrangement == False:\n",
    "    rearrangement_mask_per_param = np.ones((num_params, num_repetitions_per_param), dtype=bool)"
   ]
  },
  {
   "cell_type": "code",
   "execution_count": 151,
   "metadata": {},
   "outputs": [
    {
     "name": "stdout",
     "output_type": "stream",
     "text": [
      "(16, 16, 12, 1000)\n",
      "(12, 1000)\n",
      "[2.46580189 2.58372642 2.70165094 2.81957547 2.9375     3.05542453\n",
      " 3.17334906 3.29127358 3.40919811 3.52712264 3.64504717 3.7629717 ]\n",
      "15.0\n",
      "[10.  10.5 11.  11.5 12.  12.5 13.  13.5 14.  14.5 15.  15.5]\n"
     ]
    }
   ],
   "source": [
    "rabi_exp = 4.24\n",
    "ryd_resonance = -0.455\n",
    "print(ryd_pop_per_param.shape)\n",
    "print(rearrangement_mask_per_param.shape)\n",
    "delta_omega = (params - ryd_resonance) / rabi_exp\n",
    "print(delta_omega)\n",
    "sweep_rate = 30/(2**(logtime)) # In MHz/us\n",
    "print(sweep_rate)\n",
    "print(params)"
   ]
  },
  {
   "cell_type": "code",
   "execution_count": 152,
   "metadata": {},
   "outputs": [],
   "source": [
    "# np.savez('KZ_data_16x16_%d_MHz_per_us' %np.round(sweep_rate), params=delta_omega, rydberg_data=np.array(ryd_pop_per_param, dtype=bool), \n",
    "#          rearrange_mask = rearrangement_mask_per_param, sweep_rate=sweep_rate, rabi_freq=rabi_exp, ryd_resonance = ryd_resonance)"
   ]
  },
  {
   "cell_type": "code",
   "execution_count": 153,
   "metadata": {},
   "outputs": [],
   "source": [
    "# load_file = np.load('KZ_data_16x16_%d_MHz_per_us.npz' %sweep_rate)\n",
    "# print(load_file['sweep_rate'])"
   ]
  },
  {
   "cell_type": "code",
   "execution_count": 154,
   "metadata": {},
   "outputs": [],
   "source": [
    "# params_total = np.zeros(48)\n",
    "# rearrangement_mask_total = np.zeros((48,1000))\n",
    "# ryd_total = np.zeros((16,16,48,1000))"
   ]
  },
  {
   "cell_type": "code",
   "execution_count": 155,
   "metadata": {},
   "outputs": [],
   "source": [
    "n_counter = 3\n",
    "start_index = int(n_counter*12)\n",
    "end_index = int(n_counter*12+12)\n",
    "\n",
    "params_total[start_index:end_index]=delta_omega\n",
    "ryd_total[:,:,start_index:end_index,:] = ryd_pop_per_param\n",
    "rearrangement_mask_total[start_index:end_index,:] = rearrangement_mask_per_param"
   ]
  },
  {
   "cell_type": "code",
   "execution_count": 157,
   "metadata": {},
   "outputs": [
    {
     "name": "stdout",
     "output_type": "stream",
     "text": [
      "[-8.  -7.5 -7.  -6.5 -6.  -5.5 -5.  -4.5 -4.  -3.5 -3.  -2.5 -2.  -1.5\n",
      " -1.  -0.5  0.   0.5  1.   1.5  2.   2.5  3.   3.5  4.   4.5  5.   5.5\n",
      "  6.   6.5  7.   7.5  8.   8.5  9.   9.5 10.  10.5 11.  11.5 12.  12.5\n",
      " 13.  13.5 14.  14.5 15.  15.5]\n"
     ]
    }
   ],
   "source": [
    "print(params_total*rabi_exp+ryd_resonance)"
   ]
  },
  {
   "cell_type": "code",
   "execution_count": 158,
   "metadata": {},
   "outputs": [],
   "source": [
    "np.savez('KZ_data_16x16_%d_MHz_per_us' %np.round(sweep_rate), params=params_total, rydberg_data=np.array(ryd_total,dtype=bool), \n",
    "         rearrange_mask = rearrangement_mask_total, sweep_rate=sweep_rate, rabi_freq=rabi_exp, ryd_resonance = ryd_resonance)"
   ]
  },
  {
   "cell_type": "code",
   "execution_count": 278,
   "metadata": {},
   "outputs": [
    {
     "name": "stdout",
     "output_type": "stream",
     "text": [
      "[-1.77948113 -1.6615566  -1.54363208 -1.42570755 -1.30778302 -1.18985849\n",
      " -1.07193396 -0.95400943 -0.83608491 -0.71816038 -0.60023585 -0.48231132\n",
      " -0.36438679 -0.24646226 -0.12853774 -0.01061321  0.10731132  0.22523585\n",
      "  0.34316038  0.46108491  0.57900943  0.69693396  0.81485849  0.93278302\n",
      "  1.05070755  1.16863208  1.2865566   1.40448113  1.52240566  1.64033019\n",
      "  1.75825472  1.87617925  1.99410377  2.1120283   2.22995283  2.34787736\n",
      "  2.46580189  2.58372642  2.70165094  2.81957547  2.9375      3.05542453\n",
      "  3.17334906  3.29127358  3.40919811  3.52712264  3.64504717  3.7629717 ]\n"
     ]
    },
    {
     "data": {
      "image/png": "[encoded data removed]",
      "text/plain": [
       "<Figure size 432x288 with 1 Axes>"
      ]
     },
     "metadata": {
      "needs_background": "light"
     },
     "output_type": "display_data"
    }
   ],
   "source": [
    "# plt.plot(params_total[14:34], np.mean(ryd_total, axis=(0,1,3))[14:34], marker='.', ls='')\n",
    "# print(params_total)"
   ]
  },
  {
   "cell_type": "code",
   "execution_count": 282,
   "metadata": {},
   "outputs": [],
   "source": [
    "# load_file = np.load('KZ_data_16x16_%d_MHz_per_us.npz' %sweep_rate)\n",
    "# plt.plot(load_file['params'][14:34], np.mean(load_file['rydberg_data'], axis=(0,1,3))[14:34], marker='.', ls='')"
   ]
  },
  {
   "cell_type": "code",
   "execution_count": 283,
   "metadata": {},
   "outputs": [
    {
     "data": {
      "text/plain": [
       "[<matplotlib.lines.Line2D at 0x1243da970>]"
      ]
     },
     "execution_count": 283,
     "metadata": {},
     "output_type": "execute_result"
    },
    {
     "data": {
      "image/png": "[encoded data removed]",
      "text/plain": [
       "<Figure size 432x288 with 1 Axes>"
      ]
     },
     "metadata": {
      "needs_background": "light"
     },
     "output_type": "display_data"
    }
   ],
   "source": [
    "load_file = np.load('KZ_data_16x16_120_MHz_per_us.npz')\n",
    "plt.plot(load_file['params'], np.mean(load_file['rydberg_data'], axis=(0,1,3)), marker='.', ls='')"
   ]
  }
 ],
 "metadata": {
  "kernelspec": {
   "display_name": "Python 3 (ipykernel)",
   "language": "python",
   "name": "python3"
  },
  "language_info": {
   "codemirror_mode": {
    "name": "ipython",
    "version": 3
   },
   "file_extension": ".py",
   "mimetype": "text/x-python",
   "name": "python",
   "nbconvert_exporter": "python",
   "pygments_lexer": "ipython3",
   "version": "3.9.7"
  }
 },
 "nbformat": 4,
 "nbformat_minor": 2
}
