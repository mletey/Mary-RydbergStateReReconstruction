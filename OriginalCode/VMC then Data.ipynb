{
 "cells": [
  {
   "cell_type": "code",
   "execution_count": null,
   "id": "942276cb",
   "metadata": {},
   "outputs": [],
   "source": [
    "import numpy as np\n",
    "import tensorflow as tf\n",
    "from HybridTrain import run_DataPlusVMC\n",
    "from train_VMC import run_VMC\n",
    "from train_Data import Train_w_Data"
   ]
  },
  {
   "cell_type": "code",
   "execution_count": null,
   "id": "ed35ee96",
   "metadata": {},
   "outputs": [],
   "source": [
    "energy = []\n",
    "variance = []\n",
    "\n",
    "def main():\n",
    "    config = {\n",
    "        'name': 'none', # A very random name for each experiment\n",
    "        'Lx': 4,  # number of sites in x-direction                    \n",
    "        'Ly': 4,  # number of sites in the y-direction\n",
    "        'V': 7,\n",
    "        'Omega': 1,\n",
    "        'delta': 1,\n",
    "        \n",
    "        'nh': 32,  # number of memory/hidden units\n",
    "        'lr': 1e-3,  # learning rate\n",
    "        'weight_sharing': True,\n",
    "        'trunc': 100,\n",
    "        'seed': 1234,\n",
    "        \n",
    "        'RNN': 'TwoD',\n",
    "        'VMC_epochs':1000,\n",
    "        'Data_epochs':0,\n",
    "        'dset': None,\n",
    "        \n",
    "        'ns': 1000,\n",
    "        'batch_size': 100,\n",
    "        \n",
    "        'Print':True,\n",
    "        'Write_Data': False,\n",
    "        'Plot': True\n",
    "        }\n",
    "    \n",
    "    return run_VMC(config,energy,variance)\n",
    "\n",
    "\n",
    "if __name__ == \"__main__\":\n",
    "    model = main()"
   ]
  }
 ],
 "metadata": {
  "kernelspec": {
   "display_name": "Python 3 (ipykernel)",
   "language": "python",
   "name": "python3"
  },
  "language_info": {
   "codemirror_mode": {
    "name": "ipython",
    "version": 3
   },
   "file_extension": ".py",
   "mimetype": "text/x-python",
   "name": "python",
   "nbconvert_exporter": "python",
   "pygments_lexer": "ipython3",
   "version": "3.9.12"
  }
 },
 "nbformat": 4,
 "nbformat_minor": 5
}
