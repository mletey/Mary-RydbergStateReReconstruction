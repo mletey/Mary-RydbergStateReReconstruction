{
 "cells": [
  {
   "cell_type": "code",
   "execution_count": 2,
   "id": "b9ef8880",
   "metadata": {},
   "outputs": [],
   "source": [
    "import os\n",
    "import numpy as np\n",
    "import glob"
   ]
  },
  {
   "cell_type": "code",
   "execution_count": 27,
   "id": "5fed7d03",
   "metadata": {},
   "outputs": [],
   "source": [
    "dim = 4\n",
    "path = \"./QMC_data\"\n",
    "dim_path = f\"Dim={dim}_M=1000000_V=7_omega=1.0_delta=1.0\" # Can change this to look at Dim = 4, 8, 12, 16\n",
    "files_we_want = glob.glob(os.path.join(path,dim_path,'samples*'))\n",
    "uploaded = {}\n",
    "for file in files_we_want:\n",
    "    data = np.loadtxt(file)\n",
    "    uploaded[file] = data"
   ]
  },
  {
   "cell_type": "code",
   "execution_count": 26,
   "id": "b02bdaea",
   "metadata": {},
   "outputs": [],
   "source": [
    "import random\n",
    "\n",
    "def decision(probability):\n",
    "    return random.random() < probability"
   ]
  },
  {
   "cell_type": "code",
   "execution_count": null,
   "id": "637b2235",
   "metadata": {},
   "outputs": [],
   "source": [
    "for file in uploaded:\n",
    "    new_data = uploaded[file]\n",
    "    new_data = new_data.astype(int)\n",
    "    for samples in range(len(new_data[:,1])), atoms in range(len(new_data[1,:])):\n",
    "        # P(0|1) = 0.04 i.e. probability atom is actually in |r> but recorded as |g>\n",
    "        if new_data[samples, atoms] == 0:\n",
    "            if decision(0.04):\n",
    "                new_data[samples, atoms] = 1\n",
    "        # P(1|0) = 0.01 i.e. probability atom is actually in |g> but recorded as |r>\n",
    "        if new_data[samples, atoms] == 1:\n",
    "            if decision(0.04):\n",
    "                new_data[samples, atoms] = 0"
   ]
  }
 ],
 "metadata": {
  "kernelspec": {
   "display_name": "Python 3 (ipykernel)",
   "language": "python",
   "name": "python3"
  },
  "language_info": {
   "codemirror_mode": {
    "name": "ipython",
    "version": 3
   },
   "file_extension": ".py",
   "mimetype": "text/x-python",
   "name": "python",
   "nbconvert_exporter": "python",
   "pygments_lexer": "ipython3",
   "version": "3.9.6"
  }
 },
 "nbformat": 4,
 "nbformat_minor": 5
}
