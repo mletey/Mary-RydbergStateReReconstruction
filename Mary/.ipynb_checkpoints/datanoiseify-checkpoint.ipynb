{
 "cells": [
  {
   "cell_type": "code",
   "execution_count": 2,
   "id": "6deb8bbb",
   "metadata": {},
   "outputs": [],
   "source": [
    "import os\n",
    "import numpy as np\n",
    "import glob"
   ]
  },
  {
   "cell_type": "code",
   "execution_count": 48,
   "id": "372db41f",
   "metadata": {},
   "outputs": [],
   "source": [
    "dim = 16 # 4, 8, 12, 16\n",
    "path = \"./QMC_data\"\n",
    "dim_path = f\"Dim={dim}_M=1000000_V=7_omega=1.0_delta=1.0\" # Can change this to look at Dim = 4, 8, 12, 16\n",
    "files_we_want = glob.glob(os.path.join(path,dim_path,'samples*'))\n",
    "uploaded = {}\n",
    "for file in files_we_want:\n",
    "    data = np.loadtxt(file)\n",
    "    uploaded[file] = data"
   ]
  },
  {
   "cell_type": "code",
   "execution_count": 49,
   "id": "321e59c5",
   "metadata": {},
   "outputs": [],
   "source": [
    "import random\n",
    "\n",
    "def decision(probability):\n",
    "    return random.random() < probability"
   ]
  },
  {
   "cell_type": "code",
   "execution_count": 50,
   "id": "616953e6",
   "metadata": {},
   "outputs": [
    {
     "name": "stdout",
     "output_type": "stream",
     "text": [
      "happy and done\n"
     ]
    }
   ],
   "source": [
    "i = 1\n",
    "for file in uploaded:\n",
    "    new_data = uploaded[file]\n",
    "    new_data = new_data.astype(int)\n",
    "    for samples in range(len(new_data[:,1])):\n",
    "        for atoms in range(len(new_data[1,:])):\n",
    "            # P(0|1) = 0.04 i.e. probability atom is actually in |r> but recorded as |g>\n",
    "            if new_data[samples, atoms] == 0:\n",
    "                if decision(0.04):\n",
    "                    new_data[samples, atoms] = 1\n",
    "            # P(1|0) = 0.01 i.e. probability atom is actually in |g> but recorded as |r>\n",
    "            if new_data[samples, atoms] == 1:\n",
    "                if decision(0.01):\n",
    "                    new_data[samples, atoms] = 0\n",
    "\n",
    "    np.savetxt(f\"noisedsamples_{i}_{dim}.txt\", new_data.reshape(new_data.shape[0],dim*dim), fmt='%d')\n",
    "    i = i + 1\n",
    "    \n",
    "print(\"happy and done\")"
   ]
  },
  {
   "cell_type": "code",
   "execution_count": null,
   "id": "111f4f6d",
   "metadata": {},
   "outputs": [],
   "source": []
  }
 ],
 "metadata": {
  "kernelspec": {
   "display_name": "Python 3 (ipykernel)",
   "language": "python",
   "name": "python3"
  },
  "language_info": {
   "codemirror_mode": {
    "name": "ipython",
    "version": 3
   },
   "file_extension": ".py",
   "mimetype": "text/x-python",
   "name": "python",
   "nbconvert_exporter": "python",
   "pygments_lexer": "ipython3",
   "version": "3.9.6"
  }
 },
 "nbformat": 4,
 "nbformat_minor": 5
}
